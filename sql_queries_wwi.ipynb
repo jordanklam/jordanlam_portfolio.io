{
 "cells": [
  {
   "cell_type": "markdown",
   "id": "943bcae4",
   "metadata": {},
   "source": [
    "# Task Details\n",
    "\n",
    "The goal here is to extract business insights from the WorldWide Importers database, and present them in a format that non-analysts can understand. In order to do this, we'll be doing the following:\n",
    "\n",
    "1. Deciding what information we need from the dataset\n",
    "2. Extracting the data with SQL queries\n",
    "3. Exporting the SQL queries as a CSV file\n",
    "4. Graphing the data with a BI software (Tableau, Power BI)\n",
    "\n",
    "Sales Questions:\n",
    "- What are our totals?\n",
    "    - Sales?\n",
    "    - Revenue?\n",
    "    - Costs?\n",
    "- What are our top selling categories?\n",
    "    - Overall?\n",
    "    - Compared to previous years?\n",
    "- Top customers\n",
    "    - By year\n",
    "    \n",
    "I'll be documenting my SQL queries here.\n"
   ]
  },
  {
   "cell_type": "code",
   "execution_count": 2,
   "id": "d66c7402",
   "metadata": {},
   "outputs": [],
   "source": [
    "## Import os and pandas\n",
    "import os\n",
    "import pandas as pd, pyodbc"
   ]
  },
  {
   "cell_type": "code",
   "execution_count": 3,
   "id": "3197ef87",
   "metadata": {},
   "outputs": [],
   "source": [
    "## create function to read in SQL to python\n",
    "def get_sql(sql_path, print_sql=True):\n",
    "    assert os.path.exists(sql_path), f'{sql_path} does not exists'\n",
    "    _in = open(sql_path,'r')\n",
    "    sql = _in.read()\n",
    "    _in.close()\n",
    "    if print_sql:\n",
    "        print(sql)\n",
    "    return sql"
   ]
  },
  {
   "cell_type": "code",
   "execution_count": 4,
   "id": "bbd82abd",
   "metadata": {},
   "outputs": [],
   "source": [
    "#create function to establish connection to database Worldwide Importers\n",
    "def get_wwi_cnn():\n",
    "    ''' get connection to world wide importers'''\n",
    "    cnn_str = (\"Driver={SQL Server Native Client 11.0};\"\n",
    "                \"Server=DESKTOP-6IFNJ56\\SQLEXPRESS;\"\n",
    "                \"Database=WideWorldImporters;\"\n",
    "                \"Trusted_Connection=yes;\")\n",
    "    cnn = pyodbc.connect(cnn_str)\n",
    "    return cnn\n",
    "\n",
    "#assign to cnn_wwi\n",
    "cnn_wwi = get_wwi_cnn()"
   ]
  },
  {
   "cell_type": "markdown",
   "id": "fd4c0f65",
   "metadata": {},
   "source": [
    "now, we can create queries and save to SQL here"
   ]
  },
  {
   "cell_type": "markdown",
   "id": "38297fd8",
   "metadata": {},
   "source": [
    "## Question 1\n",
    "\n",
    "What are our total sales?"
   ]
  },
  {
   "cell_type": "code",
   "execution_count": 5,
   "id": "f049eda7",
   "metadata": {},
   "outputs": [],
   "source": [
    "sql= \"\"\"select year(lasteditedwhen) 'year', sum(extendedprice) 'revenue'\n",
    "from sales.InvoiceLines\n",
    "group by year(lasteditedwhen)\n",
    "order by 2 desc\"\"\""
   ]
  },
  {
   "cell_type": "code",
   "execution_count": 6,
   "id": "c38d0d1e",
   "metadata": {
    "scrolled": false
   },
   "outputs": [],
   "source": [
    "#read query into sql\n",
    "df = pd.read_sql(sql, cnn_wwi)\n",
    "#save file\n",
    "df.to_csv('total_sales.csv')"
   ]
  },
  {
   "cell_type": "markdown",
   "id": "fc58c191",
   "metadata": {},
   "source": [
    "## Question 1b\n",
    "\n",
    "What are our total profits?"
   ]
  },
  {
   "cell_type": "code",
   "execution_count": 7,
   "id": "63b0da85",
   "metadata": {},
   "outputs": [],
   "source": [
    "sql= \"\"\"\n",
    "select year(lasteditedwhen) 'year', sum(LineProfit) 'profit'\n",
    "from sales.InvoiceLines\n",
    "group by year(lasteditedwhen)\n",
    "order by 2 desc\n",
    "\"\"\""
   ]
  },
  {
   "cell_type": "code",
   "execution_count": 8,
   "id": "ad2d5147",
   "metadata": {},
   "outputs": [],
   "source": [
    "#read query into sql\n",
    "df = pd.read_sql(sql, cnn_wwi)\n",
    "#save file\n",
    "df.to_csv('total_profits.csv')"
   ]
  },
  {
   "cell_type": "markdown",
   "id": "aaa53bb0",
   "metadata": {},
   "source": [
    "## Question 1c\n",
    "\n",
    "What are our sales compared to previous years, between 2013 and 2015?"
   ]
  },
  {
   "cell_type": "code",
   "execution_count": 17,
   "id": "4efde025",
   "metadata": {},
   "outputs": [],
   "source": [
    "sql=\"\"\"\n",
    "select year(lasteditedwhen) 'year', sum(extendedprice) 'current_year_sales', lag(sum(extendedprice),1) over (order by year(lasteditedwhen)) 'prev_year_sales'\n",
    "from sales.InvoiceLines\n",
    "where year(lasteditedwhen) between '2013' and '2015'\n",
    "group by year(lasteditedwhen)\n",
    "\"\"\""
   ]
  },
  {
   "cell_type": "code",
   "execution_count": 18,
   "id": "938d5061",
   "metadata": {},
   "outputs": [],
   "source": [
    "#read query into sql\n",
    "df = pd.read_sql(sql, cnn_wwi)\n",
    "#save file\n",
    "df.to_csv('prev_year_sales.csv')"
   ]
  },
  {
   "cell_type": "markdown",
   "id": "9145a6bd",
   "metadata": {},
   "source": [
    "## Question 2\n",
    "\n",
    "What are our top selling groups?"
   ]
  },
  {
   "cell_type": "code",
   "execution_count": 9,
   "id": "d396e25f",
   "metadata": {},
   "outputs": [],
   "source": [
    "sql = \"\"\"\n",
    "select grp.stockgroupname, sum(il.extendedprice) total_amount\n",
    "from sales.InvoiceLines il\n",
    "join warehouse.StockItems si on il.StockItemID = si.StockItemID\n",
    "join warehouse.StockItemStockGroups sg on si.StockItemID = sg.StockItemID\n",
    "join warehouse.StockGroups grp on sg.StockGroupID = grp.StockGroupID\n",
    "group by grp.StockGroupName\n",
    "order by 2 desc\n",
    "\"\"\""
   ]
  },
  {
   "cell_type": "code",
   "execution_count": 10,
   "id": "b5721cf5",
   "metadata": {},
   "outputs": [],
   "source": [
    "#read query into sql\n",
    "df = pd.read_sql(sql, cnn_wwi)\n",
    "#save file\n",
    "df.to_csv('top_selling_groups.csv')"
   ]
  },
  {
   "cell_type": "markdown",
   "id": "500f4e6b",
   "metadata": {},
   "source": [
    "## Question 2a\n",
    "\n",
    "What are our selling groups for each year?"
   ]
  },
  {
   "cell_type": "code",
   "execution_count": 11,
   "id": "ff0fe651",
   "metadata": {},
   "outputs": [],
   "source": [
    "sql = \"\"\"\n",
    "select year(il.LastEditedwhen), grp.stockgroupname, sum(il.ExtendedPrice) total_amount\n",
    "from sales.InvoiceLines il\n",
    "join warehouse.StockItems si on il.StockItemID = si.StockItemID\n",
    "join warehouse.StockItemStockGroups sg on si.StockItemID = sg.StockItemID\n",
    "join warehouse.StockGroups grp on sg.StockGroupID = grp.StockGroupID\n",
    "where year(il.LastEditedwhen) is not null\n",
    "group by year(il.LastEditedwhen), grp.StockGroupName\n",
    "order by 2 desc\n",
    "\"\"\""
   ]
  },
  {
   "cell_type": "code",
   "execution_count": 12,
   "id": "9f805135",
   "metadata": {},
   "outputs": [],
   "source": [
    "#read query into sql\n",
    "df = pd.read_sql(sql, cnn_wwi)\n",
    "#save file\n",
    "df.to_csv('top_selling_groups_year.csv')"
   ]
  },
  {
   "cell_type": "markdown",
   "id": "39cdd5d2",
   "metadata": {},
   "source": [
    "## Question 3\n",
    "\n",
    "Who are our top 50 customers by revenue?\n"
   ]
  },
  {
   "cell_type": "code",
   "execution_count": 13,
   "id": "b9a02fd2",
   "metadata": {},
   "outputs": [],
   "source": [
    "sql = \"\"\"\n",
    "select top 50 c.customername, sum(il.extendedprice) 'revenue'\n",
    "from sales.InvoiceLines il\n",
    "join sales.Invoices i on il.InvoiceID = i.InvoiceID\n",
    "join sales.customers c on c.customerid = i.CustomerID\n",
    "group by c.CustomerName\n",
    "order by 2 desc\"\"\""
   ]
  },
  {
   "cell_type": "code",
   "execution_count": 14,
   "id": "22146e3c",
   "metadata": {},
   "outputs": [],
   "source": [
    "#read query into sql\n",
    "df = pd.read_sql(sql, cnn_wwi)\n",
    "#save file\n",
    "df.to_csv('top_50_customers.csv')"
   ]
  },
  {
   "cell_type": "markdown",
   "id": "187a2c57",
   "metadata": {},
   "source": [
    "## Combined Table\n",
    "\n",
    "We'll combine all the individual tables for processing into Tableau for analysis.\n",
    "\n",
    "Tables needed:\n",
    "- sales.invoices\n",
    "- sales.customers\n",
    "- sales.customercategories\n",
    "- warehouse.stockitems\n",
    "- warehouse.stockitemstockgroups\n",
    "- warehouse.stockgroups"
   ]
  },
  {
   "cell_type": "markdown",
   "id": "1b0b3824",
   "metadata": {},
   "source": [
    "## Combined Table Query"
   ]
  },
  {
   "cell_type": "code",
   "execution_count": 23,
   "id": "4b05fc58",
   "metadata": {},
   "outputs": [],
   "source": [
    "sql = \"\"\"select\n",
    "--invoiceline\n",
    "il.invoicelineid, il.invoiceid, il.stockitemid, il.extendedprice, il.StockItemID, il.LastEditedWhen, il.LineProfit\n",
    "--invoices\n",
    ",i.invoiceid, i.customerid, i.orderid\n",
    "--customer\n",
    ",c.customerid, c.customername, c.deliverypostalcode, c.customercategoryid\n",
    "--customercategories\n",
    ",cc.customercategoryid, cc.customercategoryname\n",
    "--stockitems\n",
    ",si.stockitemid,si.stockitemname\n",
    "--stockitemstockgroups\n",
    ",sisg.stockitemid, sisg.stockgroupid\n",
    "--stockgroups\n",
    ",sg.stockgroupid,sg.stockgroupname\n",
    "\n",
    "from sales.InvoiceLines il\n",
    "left join sales.invoices i on il.invoiceid = i.invoiceid\n",
    "left join sales.Customers c on i.customerid = c.customerid\n",
    "left join sales.customercategories cc on c.CustomerCategoryID = cc.customercategoryid\n",
    "left join warehouse.stockitems si on si.StockItemID = il.StockItemID\n",
    "left join warehouse.StockItemStockGroups sisg on si.StockItemID = sisg.StockItemID\n",
    "left join warehouse.StockGroups sg on  sisg.StockGroupID = sg.StockGroupID\n",
    "\"\"\"\n",
    "\n",
    "df = pd.read_sql(sql, cnn_wwi)"
   ]
  },
  {
   "cell_type": "code",
   "execution_count": 22,
   "id": "53464185",
   "metadata": {},
   "outputs": [],
   "source": [
    "df.to_csv('wwi_data.csv')"
   ]
  },
  {
   "cell_type": "markdown",
   "id": "65e7f2ed",
   "metadata": {},
   "source": [
    "## Dashboard\n",
    "\n",
    "I have generated a quick Tableau dashboard with the SQL query above. You can access it from my github portfolio!"
   ]
  },
  {
   "cell_type": "code",
   "execution_count": null,
   "id": "d67ed6a8",
   "metadata": {},
   "outputs": [],
   "source": []
  }
 ],
 "metadata": {
  "kernelspec": {
   "display_name": "Python 3",
   "language": "python",
   "name": "python3"
  },
  "language_info": {
   "codemirror_mode": {
    "name": "ipython",
    "version": 3
   },
   "file_extension": ".py",
   "mimetype": "text/x-python",
   "name": "python",
   "nbconvert_exporter": "python",
   "pygments_lexer": "ipython3",
   "version": "3.8.8"
  }
 },
 "nbformat": 4,
 "nbformat_minor": 5
}
